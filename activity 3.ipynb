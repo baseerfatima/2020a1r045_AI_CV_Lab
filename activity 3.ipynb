{
 "cells": [
  {
   "cell_type": "markdown",
   "id": "7c891bc8",
   "metadata": {},
   "source": [
    "# FIND S ALGORITHM"
   ]
  },
  {
   "cell_type": "code",
   "execution_count": 2,
   "id": "8d46848a",
   "metadata": {},
   "outputs": [
    {
     "name": "stdout",
     "output_type": "stream",
     "text": [
      "  Citation    Size In Library       Price Editions  Buy\n",
      "0    Some    Small         no  affordable     many   no\n",
      "1     Many     Big         no   expensive      one  yes\n",
      "2    Some      Big     always   expensive      few   no\n",
      "3     Many  Medium         no   expensive     many  yes\n",
      "4     Many   Small         no  affordable     many  yes\n"
     ]
    }
   ],
   "source": [
    "import pandas as pd\n",
    "import numpy as np\n",
    "data = pd.read_csv('act 2.csv')\n",
    "print(data) #printing the dataset\n"
   ]
  },
  {
   "cell_type": "code",
   "execution_count": 6,
   "id": "c43453b7",
   "metadata": {},
   "outputs": [
    {
     "name": "stdout",
     "output_type": "stream",
     "text": [
      "[['Some ' 'Small' 'no' 'affordable' 'many']\n",
      " ['Many' 'Big' 'no' 'expensive' 'one']\n",
      " ['Some ' 'Big' 'always' 'expensive' 'few']\n",
      " ['Many' 'Medium' 'no' 'expensive' 'many']\n",
      " ['Many' 'Small' 'no' 'affordable' 'many']]\n"
     ]
    }
   ],
   "source": [
    "concepts = np.array(data)[:,:-1]\n",
    "print(concepts) #printing the dataset except the target value"
   ]
  },
  {
   "cell_type": "code",
   "execution_count": 7,
   "id": "a8143b77",
   "metadata": {},
   "outputs": [
    {
     "name": "stdout",
     "output_type": "stream",
     "text": [
      "['no' 'yes' 'no' 'yes' 'yes']\n"
     ]
    }
   ],
   "source": [
    "target = np.array(data)[:,-1]\n",
    "print(target)\n",
    "#printing the target values"
   ]
  },
  {
   "cell_type": "code",
   "execution_count": 5,
   "id": "a21dfa87",
   "metadata": {},
   "outputs": [
    {
     "name": "stdout",
     "output_type": "stream",
     "text": [
      "['Many' '?' 'no' '?' '?']\n"
     ]
    }
   ],
   "source": [
    "def train(con,tar):\n",
    "    for i,val in enumerate(tar):\n",
    "        if val=='yes':\n",
    "            specific_h = con[i].copy()\n",
    "            break\n",
    "\n",
    "    for i,val in enumerate(con):\n",
    "        if tar[i]=='yes':\n",
    "            for x in range(len(specific_h)):\n",
    "                if val[x] != specific_h[x]:\n",
    "                    specific_h[x] = '?'\n",
    "                else:\n",
    "                    pass\n",
    "    return specific_h \n",
    "#Generating the output\n",
    "print(train(concepts,target))"
   ]
  },
  {
   "cell_type": "code",
   "execution_count": null,
   "id": "920f184b",
   "metadata": {},
   "outputs": [],
   "source": []
  }
 ],
 "metadata": {
  "kernelspec": {
   "display_name": "Python 3 (ipykernel)",
   "language": "python",
   "name": "python3"
  },
  "language_info": {
   "codemirror_mode": {
    "name": "ipython",
    "version": 3
   },
   "file_extension": ".py",
   "mimetype": "text/x-python",
   "name": "python",
   "nbconvert_exporter": "python",
   "pygments_lexer": "ipython3",
   "version": "3.9.12"
  }
 },
 "nbformat": 4,
 "nbformat_minor": 5
}
