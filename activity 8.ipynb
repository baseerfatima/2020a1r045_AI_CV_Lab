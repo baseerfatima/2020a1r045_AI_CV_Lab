{
 "cells": [
  {
   "cell_type": "markdown",
   "id": "0f6bad38",
   "metadata": {},
   "source": [
    "## Converting image to gray scale "
   ]
  },
  {
   "cell_type": "code",
   "execution_count": 2,
   "id": "935c4977",
   "metadata": {},
   "outputs": [],
   "source": [
    "import cv2\n",
    "import numpy as np"
   ]
  },
  {
   "cell_type": "code",
   "execution_count": 3,
   "id": "1ccc7b0d",
   "metadata": {},
   "outputs": [],
   "source": [
    "image = cv2.imread('beautiful-rainbow-sky-59102268.jpg')"
   ]
  },
  {
   "cell_type": "markdown",
   "id": "99821bab",
   "metadata": {},
   "source": [
    "### convert the image to gray scale"
   ]
  },
  {
   "cell_type": "code",
   "execution_count": 4,
   "id": "05361c09",
   "metadata": {},
   "outputs": [],
   "source": [
    "\n",
    "cv2.imshow('Original', image)\n",
    "cv2.waitKey(0)\n",
    "  \n",
    "# Use the cvtColor() function to grayscale the image\n",
    "gray_image = cv2.cvtColor(image, cv2.COLOR_BGR2GRAY)\n",
    "  \n",
    "cv2.imshow('Grayscale', gray_image)\n"
   ]
  },
  {
   "cell_type": "code",
   "execution_count": 5,
   "id": "39d5ed49",
   "metadata": {},
   "outputs": [
    {
     "data": {
      "text/plain": [
       "-1"
      ]
     },
     "execution_count": 5,
     "metadata": {},
     "output_type": "execute_result"
    }
   ],
   "source": [
    "cv2.waitKey(0)"
   ]
  },
  {
   "cell_type": "code",
   "execution_count": 6,
   "id": "0d39ce69",
   "metadata": {},
   "outputs": [],
   "source": [
    "cv2.destroyAllWindows()"
   ]
  },
  {
   "cell_type": "code",
   "execution_count": null,
   "id": "e44d3d6b",
   "metadata": {},
   "outputs": [],
   "source": []
  }
 ],
 "metadata": {
  "kernelspec": {
   "display_name": "Python 3 (ipykernel)",
   "language": "python",
   "name": "python3"
  },
  "language_info": {
   "codemirror_mode": {
    "name": "ipython",
    "version": 3
   },
   "file_extension": ".py",
   "mimetype": "text/x-python",
   "name": "python",
   "nbconvert_exporter": "python",
   "pygments_lexer": "ipython3",
   "version": "3.9.12"
  }
 },
 "nbformat": 4,
 "nbformat_minor": 5
}
